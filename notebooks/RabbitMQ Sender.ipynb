{
 "cells": [
  {
   "cell_type": "code",
   "execution_count": 23,
   "id": "79337210",
   "metadata": {},
   "outputs": [],
   "source": [
    "import uuid\n",
    "import json\n",
    "\n",
    "from utils import Producer"
   ]
  },
  {
   "cell_type": "code",
   "execution_count": 32,
   "id": "8d51e698",
   "metadata": {},
   "outputs": [
    {
     "data": {
      "text/plain": [
       "'{\"username\": \"username\", \"password\": \"password\", \"request\": \"do this process again\"}'"
      ]
     },
     "execution_count": 32,
     "metadata": {},
     "output_type": "execute_result"
    }
   ],
   "source": [
    "data = {\n",
    "    \"username\": \"username\",\n",
    "    \"password\": \"password\",\n",
    "    \"request\": \"do this process again\"\n",
    "}\n",
    "json_data = json.dumps(data)\n",
    "json_data"
   ]
  },
  {
   "cell_type": "code",
   "execution_count": 33,
   "id": "f4b31114",
   "metadata": {},
   "outputs": [],
   "source": [
    "queue = \"testq-2\"\n",
    "\n",
    "producer = Producer()\n",
    "producer.send(queue, json_data)"
   ]
  }
 ],
 "metadata": {
  "kernelspec": {
   "display_name": "Python 3 (ipykernel)",
   "language": "python",
   "name": "python3"
  },
  "language_info": {
   "codemirror_mode": {
    "name": "ipython",
    "version": 3
   },
   "file_extension": ".py",
   "mimetype": "text/x-python",
   "name": "python",
   "nbconvert_exporter": "python",
   "pygments_lexer": "ipython3",
   "version": "3.8.13"
  }
 },
 "nbformat": 4,
 "nbformat_minor": 5
}
